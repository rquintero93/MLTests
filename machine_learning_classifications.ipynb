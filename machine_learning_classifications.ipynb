{
 "cells": [
  {
   "cell_type": "code",
   "execution_count": 1,
   "metadata": {},
   "outputs": [],
   "source": [
    "import numpy as np\n",
    "import pandas as pd\n",
    "import matplotlib.pyplot as plt\n",
    "from sklearn.model_selection import train_test_split\n",
    "from sklearn.ensemble import RandomForestClassifier\n",
    "from sklearn.metrics import (\n",
    "    classification_report,\n",
    "    confusion_matrix,\n",
    "    f1_score,\n",
    "    precision_score,\n",
    "    recall_score,\n",
    ")\n",
    "from sklearn.preprocessing import StandardScaler, LabelEncoder\n",
    "from xgboost import XGBClassifier\n",
    "from sklearn.linear_model import LogisticRegression\n",
    "from sklearn.tree import DecisionTreeClassifier\n",
    "from sklearn.svm import SVC\n",
    "from sklearn.neighbors import KNeighborsClassifier\n",
    "from sklearn.naive_bayes import GaussianNB\n",
    "from sklearn.discriminant_analysis import LinearDiscriminantAnalysis\n",
    "from sklearn.discriminant_analysis import QuadraticDiscriminantAnalysis"
   ]
  },
  {
   "cell_type": "code",
   "execution_count": 2,
   "metadata": {},
   "outputs": [
    {
     "data": {
      "text/html": [
       "<div>\n",
       "<style scoped>\n",
       "    .dataframe tbody tr th:only-of-type {\n",
       "        vertical-align: middle;\n",
       "    }\n",
       "\n",
       "    .dataframe tbody tr th {\n",
       "        vertical-align: top;\n",
       "    }\n",
       "\n",
       "    .dataframe thead th {\n",
       "        text-align: right;\n",
       "    }\n",
       "</style>\n",
       "<table border=\"1\" class=\"dataframe\">\n",
       "  <thead>\n",
       "    <tr style=\"text-align: right;\">\n",
       "      <th></th>\n",
       "      <th>Agent</th>\n",
       "      <th>TotalCalls</th>\n",
       "      <th>UsefulCalls</th>\n",
       "      <th>ConnectedCallTimeMins</th>\n",
       "      <th>UsefulCallTimeMins</th>\n",
       "      <th>ConnectedCalls</th>\n",
       "      <th>MedianConnectedCallTime</th>\n",
       "      <th>TotalEmails</th>\n",
       "      <th>Booking</th>\n",
       "      <th>TotalRevenue</th>\n",
       "      <th>AverageTicket</th>\n",
       "      <th>TotalNewLeads</th>\n",
       "      <th>GrossCRLead_per</th>\n",
       "      <th>L2A_per</th>\n",
       "      <th>A2PA_per</th>\n",
       "      <th>PaidApps</th>\n",
       "      <th>AllApps</th>\n",
       "    </tr>\n",
       "  </thead>\n",
       "  <tbody>\n",
       "    <tr>\n",
       "      <th>0</th>\n",
       "      <td>Adriana Hernandez</td>\n",
       "      <td>214.0</td>\n",
       "      <td>214.0</td>\n",
       "      <td>29.300000</td>\n",
       "      <td>80.316667</td>\n",
       "      <td>9.0</td>\n",
       "      <td>2.600000</td>\n",
       "      <td>257.0</td>\n",
       "      <td>11540.0</td>\n",
       "      <td>11540.0</td>\n",
       "      <td>11540.000000</td>\n",
       "      <td>117</td>\n",
       "      <td>0.854701</td>\n",
       "      <td>14.529915</td>\n",
       "      <td>5.882353</td>\n",
       "      <td>1</td>\n",
       "      <td>17</td>\n",
       "    </tr>\n",
       "    <tr>\n",
       "      <th>1</th>\n",
       "      <td>Alberto Conde</td>\n",
       "      <td>3159.0</td>\n",
       "      <td>3055.0</td>\n",
       "      <td>1468.833333</td>\n",
       "      <td>2174.333333</td>\n",
       "      <td>205.0</td>\n",
       "      <td>4.066667</td>\n",
       "      <td>3148.0</td>\n",
       "      <td>149103.0</td>\n",
       "      <td>129934.0</td>\n",
       "      <td>8283.500000</td>\n",
       "      <td>1319</td>\n",
       "      <td>1.364670</td>\n",
       "      <td>8.263836</td>\n",
       "      <td>16.513761</td>\n",
       "      <td>18</td>\n",
       "      <td>109</td>\n",
       "    </tr>\n",
       "    <tr>\n",
       "      <th>2</th>\n",
       "      <td>Alejandra Almonte</td>\n",
       "      <td>3742.0</td>\n",
       "      <td>3737.0</td>\n",
       "      <td>835.833333</td>\n",
       "      <td>1437.683333</td>\n",
       "      <td>215.0</td>\n",
       "      <td>2.983333</td>\n",
       "      <td>2171.0</td>\n",
       "      <td>114173.0</td>\n",
       "      <td>109101.0</td>\n",
       "      <td>2594.840909</td>\n",
       "      <td>1342</td>\n",
       "      <td>3.278689</td>\n",
       "      <td>10.357675</td>\n",
       "      <td>31.654676</td>\n",
       "      <td>44</td>\n",
       "      <td>139</td>\n",
       "    </tr>\n",
       "    <tr>\n",
       "      <th>3</th>\n",
       "      <td>Amanda Campos</td>\n",
       "      <td>6012.0</td>\n",
       "      <td>5911.0</td>\n",
       "      <td>1397.650000</td>\n",
       "      <td>2470.483333</td>\n",
       "      <td>315.0</td>\n",
       "      <td>3.383333</td>\n",
       "      <td>3937.0</td>\n",
       "      <td>31020.0</td>\n",
       "      <td>23486.0</td>\n",
       "      <td>2068.000000</td>\n",
       "      <td>1916</td>\n",
       "      <td>0.782881</td>\n",
       "      <td>5.584551</td>\n",
       "      <td>14.018692</td>\n",
       "      <td>15</td>\n",
       "      <td>107</td>\n",
       "    </tr>\n",
       "    <tr>\n",
       "      <th>4</th>\n",
       "      <td>Amanda Da Rosa</td>\n",
       "      <td>449.0</td>\n",
       "      <td>445.0</td>\n",
       "      <td>235.183333</td>\n",
       "      <td>313.683333</td>\n",
       "      <td>54.0</td>\n",
       "      <td>2.833333</td>\n",
       "      <td>13.0</td>\n",
       "      <td>0.0</td>\n",
       "      <td>0.0</td>\n",
       "      <td>0.000000</td>\n",
       "      <td>109</td>\n",
       "      <td>0.000000</td>\n",
       "      <td>7.339450</td>\n",
       "      <td>0.000000</td>\n",
       "      <td>0</td>\n",
       "      <td>8</td>\n",
       "    </tr>\n",
       "    <tr>\n",
       "      <th>...</th>\n",
       "      <td>...</td>\n",
       "      <td>...</td>\n",
       "      <td>...</td>\n",
       "      <td>...</td>\n",
       "      <td>...</td>\n",
       "      <td>...</td>\n",
       "      <td>...</td>\n",
       "      <td>...</td>\n",
       "      <td>...</td>\n",
       "      <td>...</td>\n",
       "      <td>...</td>\n",
       "      <td>...</td>\n",
       "      <td>...</td>\n",
       "      <td>...</td>\n",
       "      <td>...</td>\n",
       "      <td>...</td>\n",
       "      <td>...</td>\n",
       "    </tr>\n",
       "    <tr>\n",
       "      <th>137</th>\n",
       "      <td>Veronica Miquilena</td>\n",
       "      <td>0.0</td>\n",
       "      <td>0.0</td>\n",
       "      <td>0.000000</td>\n",
       "      <td>0.000000</td>\n",
       "      <td>0.0</td>\n",
       "      <td>0.000000</td>\n",
       "      <td>0.0</td>\n",
       "      <td>0.0</td>\n",
       "      <td>0.0</td>\n",
       "      <td>0.000000</td>\n",
       "      <td>2</td>\n",
       "      <td>0.000000</td>\n",
       "      <td>0.000000</td>\n",
       "      <td>0.000000</td>\n",
       "      <td>0</td>\n",
       "      <td>0</td>\n",
       "    </tr>\n",
       "    <tr>\n",
       "      <th>138</th>\n",
       "      <td>Verónica Miquilena</td>\n",
       "      <td>8929.0</td>\n",
       "      <td>8857.0</td>\n",
       "      <td>4049.766667</td>\n",
       "      <td>6431.733333</td>\n",
       "      <td>825.0</td>\n",
       "      <td>3.033333</td>\n",
       "      <td>8.0</td>\n",
       "      <td>341709.0</td>\n",
       "      <td>253494.0</td>\n",
       "      <td>6973.653061</td>\n",
       "      <td>3557</td>\n",
       "      <td>1.377565</td>\n",
       "      <td>4.723081</td>\n",
       "      <td>29.166667</td>\n",
       "      <td>49</td>\n",
       "      <td>168</td>\n",
       "    </tr>\n",
       "    <tr>\n",
       "      <th>139</th>\n",
       "      <td>Victor Fernandes</td>\n",
       "      <td>6066.0</td>\n",
       "      <td>5999.0</td>\n",
       "      <td>2432.750000</td>\n",
       "      <td>4517.466667</td>\n",
       "      <td>513.0</td>\n",
       "      <td>2.966667</td>\n",
       "      <td>25.0</td>\n",
       "      <td>240254.0</td>\n",
       "      <td>156266.0</td>\n",
       "      <td>15015.875000</td>\n",
       "      <td>2373</td>\n",
       "      <td>0.674252</td>\n",
       "      <td>3.497682</td>\n",
       "      <td>19.277108</td>\n",
       "      <td>16</td>\n",
       "      <td>83</td>\n",
       "    </tr>\n",
       "    <tr>\n",
       "      <th>140</th>\n",
       "      <td>Wolfang Freites</td>\n",
       "      <td>6783.0</td>\n",
       "      <td>6651.0</td>\n",
       "      <td>2904.733333</td>\n",
       "      <td>4789.350000</td>\n",
       "      <td>480.0</td>\n",
       "      <td>3.766667</td>\n",
       "      <td>5294.0</td>\n",
       "      <td>72799.0</td>\n",
       "      <td>66826.0</td>\n",
       "      <td>2141.147059</td>\n",
       "      <td>2168</td>\n",
       "      <td>1.568266</td>\n",
       "      <td>5.258303</td>\n",
       "      <td>29.824561</td>\n",
       "      <td>34</td>\n",
       "      <td>114</td>\n",
       "    </tr>\n",
       "    <tr>\n",
       "      <th>141</th>\n",
       "      <td>Úrsula Salazar Berrueco</td>\n",
       "      <td>0.0</td>\n",
       "      <td>0.0</td>\n",
       "      <td>0.000000</td>\n",
       "      <td>0.000000</td>\n",
       "      <td>0.0</td>\n",
       "      <td>0.000000</td>\n",
       "      <td>0.0</td>\n",
       "      <td>0.0</td>\n",
       "      <td>0.0</td>\n",
       "      <td>0.000000</td>\n",
       "      <td>1</td>\n",
       "      <td>0.000000</td>\n",
       "      <td>0.000000</td>\n",
       "      <td>0.000000</td>\n",
       "      <td>0</td>\n",
       "      <td>0</td>\n",
       "    </tr>\n",
       "  </tbody>\n",
       "</table>\n",
       "<p>142 rows × 17 columns</p>\n",
       "</div>"
      ],
      "text/plain": [
       "                       Agent  TotalCalls  UsefulCalls  ConnectedCallTimeMins  \\\n",
       "0          Adriana Hernandez       214.0        214.0              29.300000   \n",
       "1              Alberto Conde      3159.0       3055.0            1468.833333   \n",
       "2          Alejandra Almonte      3742.0       3737.0             835.833333   \n",
       "3              Amanda Campos      6012.0       5911.0            1397.650000   \n",
       "4             Amanda Da Rosa       449.0        445.0             235.183333   \n",
       "..                       ...         ...          ...                    ...   \n",
       "137       Veronica Miquilena         0.0          0.0               0.000000   \n",
       "138       Verónica Miquilena      8929.0       8857.0            4049.766667   \n",
       "139         Victor Fernandes      6066.0       5999.0            2432.750000   \n",
       "140          Wolfang Freites      6783.0       6651.0            2904.733333   \n",
       "141  Úrsula Salazar Berrueco         0.0          0.0               0.000000   \n",
       "\n",
       "     UsefulCallTimeMins  ConnectedCalls  MedianConnectedCallTime  TotalEmails  \\\n",
       "0             80.316667             9.0                 2.600000        257.0   \n",
       "1           2174.333333           205.0                 4.066667       3148.0   \n",
       "2           1437.683333           215.0                 2.983333       2171.0   \n",
       "3           2470.483333           315.0                 3.383333       3937.0   \n",
       "4            313.683333            54.0                 2.833333         13.0   \n",
       "..                  ...             ...                      ...          ...   \n",
       "137            0.000000             0.0                 0.000000          0.0   \n",
       "138         6431.733333           825.0                 3.033333          8.0   \n",
       "139         4517.466667           513.0                 2.966667         25.0   \n",
       "140         4789.350000           480.0                 3.766667       5294.0   \n",
       "141            0.000000             0.0                 0.000000          0.0   \n",
       "\n",
       "      Booking  TotalRevenue  AverageTicket  TotalNewLeads  GrossCRLead_per  \\\n",
       "0     11540.0       11540.0   11540.000000            117         0.854701   \n",
       "1    149103.0      129934.0    8283.500000           1319         1.364670   \n",
       "2    114173.0      109101.0    2594.840909           1342         3.278689   \n",
       "3     31020.0       23486.0    2068.000000           1916         0.782881   \n",
       "4         0.0           0.0       0.000000            109         0.000000   \n",
       "..        ...           ...            ...            ...              ...   \n",
       "137       0.0           0.0       0.000000              2         0.000000   \n",
       "138  341709.0      253494.0    6973.653061           3557         1.377565   \n",
       "139  240254.0      156266.0   15015.875000           2373         0.674252   \n",
       "140   72799.0       66826.0    2141.147059           2168         1.568266   \n",
       "141       0.0           0.0       0.000000              1         0.000000   \n",
       "\n",
       "       L2A_per   A2PA_per  PaidApps  AllApps  \n",
       "0    14.529915   5.882353         1       17  \n",
       "1     8.263836  16.513761        18      109  \n",
       "2    10.357675  31.654676        44      139  \n",
       "3     5.584551  14.018692        15      107  \n",
       "4     7.339450   0.000000         0        8  \n",
       "..         ...        ...       ...      ...  \n",
       "137   0.000000   0.000000         0        0  \n",
       "138   4.723081  29.166667        49      168  \n",
       "139   3.497682  19.277108        16       83  \n",
       "140   5.258303  29.824561        34      114  \n",
       "141   0.000000   0.000000         0        0  \n",
       "\n",
       "[142 rows x 17 columns]"
      ]
     },
     "execution_count": 2,
     "metadata": {},
     "output_type": "execute_result"
    }
   ],
   "source": [
    "df = pd.read_csv(\"merged.csv\", header=0)\n",
    "df"
   ]
  },
  {
   "cell_type": "markdown",
   "metadata": {},
   "source": [
    "### Data preprocessing and transformations\n",
    "Common to all models"
   ]
  },
  {
   "cell_type": "code",
   "execution_count": 3,
   "metadata": {},
   "outputs": [],
   "source": [
    "# Define performance label\n",
    "threshold = 2.5\n",
    "df[\"performance\"] = df[\"GrossCRLead_per\"].apply(\n",
    "    lambda x: \"high\" if x > threshold else \"low\"\n",
    ")\n",
    "\n",
    "# Encode the performance labels\n",
    "label_encoder = (\n",
    "    LabelEncoder()\n",
    ")  # use OneHotEncoder(sparse=False) for multiple categories\n",
    "df[\"performance\"] = label_encoder.fit_transform(df[\"performance\"])\n",
    "\n",
    "# Separate features and target variable, drop useless features\n",
    "X = df.drop([\"Agent\", \"performance\", \"GrossCRLead_per\"], axis=1)\n",
    "y = df[\"performance\"]\n",
    "\n",
    "# Identify categorical and numerical columns\n",
    "categorical_cols = X.select_dtypes(include=[\"object\"]).columns\n",
    "numerical_cols = X.select_dtypes(include=[\"number\"]).columns"
   ]
  },
  {
   "cell_type": "markdown",
   "metadata": {},
   "source": [
    "### Logistic Regression\n",
    "\n",
    "Best for: Binary classification problems.\n",
    "Data Types: Works well with linearly separable data and can handle both continuous and categorical features."
   ]
  },
  {
   "cell_type": "code",
   "execution_count": 4,
   "metadata": {},
   "outputs": [],
   "source": [
    "# Split data into training and testing sets\n",
    "X_train, X_test, y_train, y_test = train_test_split(\n",
    "    X, y, test_size=0.2, random_state=42\n",
    ")\n",
    "\n",
    "# Standardize the features\n",
    "scaler = StandardScaler()\n",
    "X_train = scaler.fit_transform(X_train)\n",
    "X_test = scaler.transform(X_test)"
   ]
  },
  {
   "cell_type": "code",
   "execution_count": 5,
   "metadata": {},
   "outputs": [],
   "source": [
    "# Initialize and train the model with increased max_iter\n",
    "model = LogisticRegression(random_state=42, max_iter=2000)\n",
    "model.fit(X_train, y_train)\n",
    "\n",
    "# Make predictions\n",
    "y_pred = model.predict(X_test)"
   ]
  },
  {
   "cell_type": "code",
   "execution_count": 6,
   "metadata": {},
   "outputs": [
    {
     "name": "stdout",
     "output_type": "stream",
     "text": [
      "              precision    recall  f1-score   support\n",
      "\n",
      "           0       1.00      0.89      0.94         9\n",
      "           1       0.95      1.00      0.98        20\n",
      "\n",
      "    accuracy                           0.97        29\n",
      "   macro avg       0.98      0.94      0.96        29\n",
      "weighted avg       0.97      0.97      0.96        29\n",
      "\n",
      "[[ 8  1]\n",
      " [ 0 20]]\n",
      "F1 Score: 0.975609756097561\n",
      "Recall: 1.0\n",
      "Precision: 0.9523809523809523\n",
      "TotalCalls: 0.7912102742174383\n",
      "UsefulCalls: 0.770135073029905\n",
      "ConnectedCallTimeMins: -0.06688484963669045\n",
      "UsefulCallTimeMins: 0.37665134937515465\n",
      "ConnectedCalls: -0.30441145439106093\n",
      "MedianConnectedCallTime: -0.11851902356430881\n",
      "TotalEmails: -0.1380046808629456\n",
      "Booking: 0.2823391796693245\n",
      "TotalRevenue: -0.31250502161474264\n",
      "AverageTicket: 0.1048818147138618\n",
      "TotalNewLeads: 0.7542993903374122\n",
      "GrossCRLead_per: -0.2622331676015933\n",
      "L2A_per: -1.1717600688494023\n",
      "A2PA_per: -2.500495616886266\n",
      "PaidApps: -1.0172213802113428\n"
     ]
    }
   ],
   "source": [
    "# Evaluate the model\n",
    "print(classification_report(y_test, y_pred))\n",
    "print(confusion_matrix(y_test, y_pred))\n",
    "\n",
    "# Calculate F1 score, recall, and precision\n",
    "f1 = f1_score(y_test, y_pred, pos_label=1)\n",
    "recall = recall_score(y_test, y_pred, pos_label=1)\n",
    "precision = precision_score(y_test, y_pred, pos_label=1)\n",
    "\n",
    "print(f\"F1 Score: {f1}\")\n",
    "print(f\"Recall: {recall}\")\n",
    "print(f\"Precision: {precision}\")\n",
    "\n",
    "\n",
    "# Coefficients of the features\n",
    "coefficients = model.coef_[0]\n",
    "for feature, coef in zip(\n",
    "    df.drop(columns=[\"Agent\", \"performance\"]).columns, coefficients\n",
    "):\n",
    "    print(f\"{feature}: {coef}\")"
   ]
  },
  {
   "cell_type": "code",
   "execution_count": 7,
   "metadata": {},
   "outputs": [
    {
     "data": {
      "image/png": "[encoded data removed]",
      "text/plain": [
       "<Figure size 1000x600 with 1 Axes>"
      ]
     },
     "metadata": {},
     "output_type": "display_data"
    }
   ],
   "source": [
    "# Plot predicted values vs actual values\n",
    "plt.figure(figsize=(10, 6))\n",
    "plt.scatter(range(len(y_test)), y_test, color=\"blue\", label=\"Actual\")\n",
    "plt.scatter(range(len(y_test)), y_pred, color=\"red\", alpha=0.6, label=\"Predicted\")\n",
    "plt.xlabel(\"Samples\")\n",
    "plt.ylabel(\"Performance\")\n",
    "plt.title(\"Predicted vs Actual Performance\")\n",
    "plt.legend()\n",
    "plt.show()"
   ]
  },
  {
   "cell_type": "markdown",
   "metadata": {},
   "source": [
    "### Decision Trees\n",
    "\n",
    "Best for: Both binary and multi-class classification.\n",
    "Data Types: Handles categorical and continuous data. Easy to interpret and visualize."
   ]
  },
  {
   "cell_type": "code",
   "execution_count": 8,
   "metadata": {},
   "outputs": [],
   "source": [
    "# Split data into training and testing sets\n",
    "X_train, X_test, y_train, y_test = train_test_split(\n",
    "    X, y, test_size=0.2, random_state=42\n",
    ")\n",
    "\n",
    "# Standardize the features\n",
    "scaler = StandardScaler()\n",
    "X_train = scaler.fit_transform(X_train)\n",
    "X_test = scaler.transform(X_test)"
   ]
  },
  {
   "cell_type": "code",
   "execution_count": 9,
   "metadata": {},
   "outputs": [],
   "source": [
    "# Initialize and train the model\n",
    "model = DecisionTreeClassifier(random_state=42)\n",
    "model.fit(X_train, y_train)\n",
    "\n",
    "# Make predictions\n",
    "y_pred = model.predict(X_test)"
   ]
  },
  {
   "cell_type": "code",
   "execution_count": 10,
   "metadata": {},
   "outputs": [
    {
     "name": "stdout",
     "output_type": "stream",
     "text": [
      "              precision    recall  f1-score   support\n",
      "\n",
      "           0       0.86      0.67      0.75         9\n",
      "           1       0.86      0.95      0.90        20\n",
      "\n",
      "    accuracy                           0.86        29\n",
      "   macro avg       0.86      0.81      0.83        29\n",
      "weighted avg       0.86      0.86      0.86        29\n",
      "\n",
      "[[ 6  3]\n",
      " [ 1 19]]\n",
      "F1 Score: 0.9047619047619048\n",
      "Recall: 0.95\n",
      "Precision: 0.8636363636363636\n",
      "Agent: 0.0\n",
      "TotalCalls: 0.0\n",
      "UsefulCalls: 0.039265326383718054\n",
      "ConnectedCallTimeMins: 0.03365599404318689\n",
      "UsefulCallTimeMins: 0.0\n",
      "ConnectedCalls: 0.0\n",
      "MedianConnectedCallTime: 0.0\n",
      "TotalEmails: 0.0\n",
      "Booking: 0.0\n",
      "TotalRevenue: 0.0\n",
      "AverageTicket: 0.0\n",
      "TotalNewLeads: 0.37823639287105243\n",
      "GrossCRLead_per: 0.5086465113649596\n",
      "L2A_per: 0.04019577533708307\n",
      "A2PA_per: 0.0\n"
     ]
    }
   ],
   "source": [
    "# Evaluate the model\n",
    "print(classification_report(y_test, y_pred))\n",
    "print(confusion_matrix(y_test, y_pred))\n",
    "\n",
    "# Calculate F1 score, recall, and precision\n",
    "f1 = f1_score(y_test, y_pred, pos_label=1)\n",
    "recall = recall_score(y_test, y_pred, pos_label=1)\n",
    "precision = precision_score(y_test, y_pred, pos_label=1)\n",
    "\n",
    "print(f\"F1 Score: {f1}\")\n",
    "print(f\"Recall: {recall}\")\n",
    "print(f\"Precision: {precision}\")\n",
    "\n",
    "# Feature importance\n",
    "feature_importances = model.feature_importances_\n",
    "for feature, importance in zip(\n",
    "    df.drop(columns=[\"performance\"]).columns, feature_importances\n",
    "):\n",
    "    print(f\"{feature}: {importance}\")"
   ]
  },
  {
   "cell_type": "code",
   "execution_count": 11,
   "metadata": {},
   "outputs": [
    {
     "data": {
      "image/png": "[encoded data removed]",
      "text/plain": [
       "<Figure size 1000x600 with 1 Axes>"
      ]
     },
     "metadata": {},
     "output_type": "display_data"
    }
   ],
   "source": [
    "# Plot predicted values vs actual values\n",
    "plt.figure(figsize=(10, 6))\n",
    "plt.scatter(range(len(y_test)), y_test, color=\"blue\", label=\"Actual\")\n",
    "plt.scatter(range(len(y_test)), y_pred, color=\"red\", alpha=0.6, label=\"Predicted\")\n",
    "plt.xlabel(\"Samples\")\n",
    "plt.ylabel(\"Performance\")\n",
    "plt.title(\"Predicted vs Actual Performance\")\n",
    "plt.legend()\n",
    "plt.show()"
   ]
  },
  {
   "cell_type": "markdown",
   "metadata": {},
   "source": [
    "### Random Forest\n",
    "\n",
    "Best for: Handling high-dimensional spaces and large datasets.\n",
    "Data Types: Robust to overfitting and works well with both continuous and categorical features."
   ]
  },
  {
   "cell_type": "code",
   "execution_count": 12,
   "metadata": {},
   "outputs": [],
   "source": [
    "# Split data into training and testing sets\n",
    "X_train, X_test, y_train, y_test = train_test_split(\n",
    "    X, y, test_size=0.2, random_state=42\n",
    ")\n",
    "\n",
    "# Standardize the features\n",
    "scaler = StandardScaler()\n",
    "X_train = scaler.fit_transform(X_train)\n",
    "X_test = scaler.transform(X_test)"
   ]
  },
  {
   "cell_type": "code",
   "execution_count": 13,
   "metadata": {},
   "outputs": [],
   "source": [
    "# Initialize and train the model\n",
    "model = RandomForestClassifier(random_state=42)\n",
    "model.fit(X_train, y_train)\n",
    "\n",
    "# Make predictions\n",
    "y_pred = model.predict(X_test)"
   ]
  },
  {
   "cell_type": "code",
   "execution_count": 14,
   "metadata": {},
   "outputs": [
    {
     "name": "stdout",
     "output_type": "stream",
     "text": [
      "              precision    recall  f1-score   support\n",
      "\n",
      "           0       1.00      0.67      0.80         9\n",
      "           1       0.87      1.00      0.93        20\n",
      "\n",
      "    accuracy                           0.90        29\n",
      "   macro avg       0.93      0.83      0.87        29\n",
      "weighted avg       0.91      0.90      0.89        29\n",
      "\n",
      "[[ 6  3]\n",
      " [ 0 20]]\n",
      "F1 Score: 0.9302325581395349\n",
      "Recall: 1.0\n",
      "Precision: 0.8695652173913043\n",
      "Agent: 0.03232398591006592\n",
      "TotalCalls: 0.02915145753853963\n",
      "UsefulCalls: 0.030626268691172163\n",
      "ConnectedCallTimeMins: 0.027895098448311097\n",
      "UsefulCallTimeMins: 0.02554187837045638\n",
      "ConnectedCalls: 0.021928744609609807\n",
      "MedianConnectedCallTime: 0.0181510662928878\n",
      "TotalEmails: 0.05999386360496647\n",
      "Booking: 0.06501889279550409\n",
      "TotalRevenue: 0.04369480248443726\n",
      "AverageTicket: 0.02256311635986747\n",
      "TotalNewLeads: 0.20359663831639696\n",
      "GrossCRLead_per: 0.247273564616818\n",
      "L2A_per: 0.12811031895960848\n",
      "A2PA_per: 0.04413030300135856\n"
     ]
    }
   ],
   "source": [
    "# Evaluate the model\n",
    "print(classification_report(y_test, y_pred))\n",
    "print(confusion_matrix(y_test, y_pred))\n",
    "\n",
    "# Calculate F1 score, recall, and precision\n",
    "f1 = f1_score(y_test, y_pred, pos_label=1)\n",
    "recall = recall_score(y_test, y_pred, pos_label=1)\n",
    "precision = precision_score(y_test, y_pred, pos_label=1)\n",
    "\n",
    "print(f\"F1 Score: {f1}\")\n",
    "print(f\"Recall: {recall}\")\n",
    "print(f\"Precision: {precision}\")\n",
    "\n",
    "# Feature importance\n",
    "feature_importances = model.feature_importances_\n",
    "for feature, importance in zip(\n",
    "    df.drop(columns=[\"performance\"]).columns, feature_importances\n",
    "):\n",
    "    print(f\"{feature}: {importance}\")"
   ]
  },
  {
   "cell_type": "code",
   "execution_count": 15,
   "metadata": {},
   "outputs": [
    {
     "data": {
      "image/png": "[encoded data removed]",
      "text/plain": [
       "<Figure size 1000x600 with 1 Axes>"
      ]
     },
     "metadata": {},
     "output_type": "display_data"
    }
   ],
   "source": [
    "# Plot predicted values vs actual values\n",
    "plt.figure(figsize=(10, 6))\n",
    "plt.scatter(range(len(y_test)), y_test, color=\"blue\", label=\"Actual\")\n",
    "plt.scatter(range(len(y_test)), y_pred, color=\"red\", alpha=0.6, label=\"Predicted\")\n",
    "plt.xlabel(\"Samples\")\n",
    "plt.ylabel(\"Performance\")\n",
    "plt.title(\"Predicted vs Actual Performance\")\n",
    "plt.legend()\n",
    "plt.show()"
   ]
  },
  {
   "cell_type": "markdown",
   "metadata": {},
   "source": [
    "### Gradient Boosting Machines (e.g., XGBoost, LightGBM)\n",
    "\n",
    "Best for: Large datasets with complex relationships between features.\n",
    "Data Types: Effective with continuous and categorical data, often used in competitions for its accuracy."
   ]
  },
  {
   "cell_type": "code",
   "execution_count": 16,
   "metadata": {},
   "outputs": [],
   "source": [
    "# Split data into training and testing sets\n",
    "X_train, X_test, y_train, y_test = train_test_split(\n",
    "    X, y, test_size=0.2, random_state=42\n",
    ")\n",
    "\n",
    "# Standardize the features\n",
    "scaler = StandardScaler()\n",
    "X_train = scaler.fit_transform(X_train)\n",
    "X_test = scaler.transform(X_test)"
   ]
  },
  {
   "cell_type": "code",
   "execution_count": 17,
   "metadata": {},
   "outputs": [],
   "source": [
    "# Initialize and train the model\n",
    "model = XGBClassifier(random_state=42)\n",
    "model.fit(X_train, y_train)\n",
    "\n",
    "# Make predictions\n",
    "y_pred = model.predict(X_test)"
   ]
  },
  {
   "cell_type": "code",
   "execution_count": 18,
   "metadata": {},
   "outputs": [
    {
     "name": "stdout",
     "output_type": "stream",
     "text": [
      "              precision    recall  f1-score   support\n",
      "\n",
      "           0       1.00      0.67      0.80         9\n",
      "           1       0.87      1.00      0.93        20\n",
      "\n",
      "    accuracy                           0.90        29\n",
      "   macro avg       0.93      0.83      0.87        29\n",
      "weighted avg       0.91      0.90      0.89        29\n",
      "\n",
      "[[ 6  3]\n",
      " [ 0 20]]\n",
      "F1 Score: 0.9302325581395349\n",
      "Recall: 1.0\n",
      "Precision: 0.8695652173913043\n",
      "Agent: 0.0\n",
      "TotalCalls: 0.0\n",
      "UsefulCalls: 0.03333466500043869\n",
      "ConnectedCallTimeMins: 0.0\n",
      "UsefulCallTimeMins: 0.0\n",
      "ConnectedCalls: 0.03641807660460472\n",
      "MedianConnectedCallTime: 0.0\n",
      "TotalEmails: 0.00413830392062664\n",
      "Booking: 0.025739029049873352\n",
      "TotalRevenue: 0.0\n",
      "AverageTicket: 0.0\n",
      "TotalNewLeads: 0.36110150814056396\n",
      "GrossCRLead_per: 0.48188653588294983\n",
      "L2A_per: 0.05738189443945885\n",
      "A2PA_per: 0.0\n"
     ]
    }
   ],
   "source": [
    "# Evaluate the model\n",
    "print(classification_report(y_test, y_pred))\n",
    "print(confusion_matrix(y_test, y_pred))\n",
    "\n",
    "# Calculate F1 score, recall, and precision\n",
    "f1 = f1_score(y_test, y_pred)\n",
    "recall = recall_score(y_test, y_pred)\n",
    "precision = precision_score(y_test, y_pred)\n",
    "\n",
    "print(f\"F1 Score: {f1}\")\n",
    "print(f\"Recall: {recall}\")\n",
    "print(f\"Precision: {precision}\")\n",
    "\n",
    "# Feature importance\n",
    "feature_importances = model.feature_importances_\n",
    "for feature, importance in zip(\n",
    "    df.drop(columns=[\"performance\"]).columns, feature_importances\n",
    "):\n",
    "    print(f\"{feature}: {importance}\")"
   ]
  },
  {
   "cell_type": "code",
   "execution_count": 19,
   "metadata": {},
   "outputs": [
    {
     "data": {
      "image/png": "[encoded data removed]",
      "text/plain": [
       "<Figure size 1000x600 with 1 Axes>"
      ]
     },
     "metadata": {},
     "output_type": "display_data"
    }
   ],
   "source": [
    "# Plot predicted values vs actual values\n",
    "plt.figure(figsize=(10, 6))\n",
    "plt.scatter(range(len(y_test)), y_test, color=\"blue\", label=\"Actual\")\n",
    "plt.scatter(range(len(y_test)), y_pred, color=\"red\", alpha=0.6, label=\"Predicted\")\n",
    "plt.xlabel(\"Samples\")\n",
    "plt.ylabel(\"Performance\")\n",
    "plt.title(\"Predicted vs Actual Performance\")\n",
    "plt.legend()\n",
    "plt.show()"
   ]
  },
  {
   "cell_type": "markdown",
   "metadata": {},
   "source": [
    "### Support Vector Machines (SVM)\n",
    "\n",
    "Best for: Binary classification and multi-class classification using one-vs-one or one-vs-all strategies.\n",
    "Data Types: Effective in high-dimensional spaces and works well with a clear margin of separation."
   ]
  },
  {
   "cell_type": "code",
   "execution_count": 20,
   "metadata": {},
   "outputs": [],
   "source": [
    "# Split data into training and testing sets\n",
    "X_train, X_test, y_train, y_test = train_test_split(\n",
    "    X, y, test_size=0.2, random_state=42\n",
    ")\n",
    "\n",
    "# Standardize the features\n",
    "scaler = StandardScaler()\n",
    "X_train = scaler.fit_transform(X_train)\n",
    "X_test = scaler.transform(X_test)"
   ]
  },
  {
   "cell_type": "code",
   "execution_count": 21,
   "metadata": {},
   "outputs": [],
   "source": [
    "# Initialize and train the model\n",
    "model = SVC(random_state=42)\n",
    "model.fit(X_train, y_train)\n",
    "\n",
    "# Make predictions\n",
    "y_pred = model.predict(X_test)"
   ]
  },
  {
   "cell_type": "code",
   "execution_count": 22,
   "metadata": {},
   "outputs": [
    {
     "name": "stdout",
     "output_type": "stream",
     "text": [
      "              precision    recall  f1-score   support\n",
      "\n",
      "           0       1.00      0.89      0.94         9\n",
      "           1       0.95      1.00      0.98        20\n",
      "\n",
      "    accuracy                           0.97        29\n",
      "   macro avg       0.98      0.94      0.96        29\n",
      "weighted avg       0.97      0.97      0.96        29\n",
      "\n",
      "[[ 8  1]\n",
      " [ 0 20]]\n",
      "F1 Score: 0.975609756097561\n",
      "Recall: 1.0\n",
      "Precision: 0.9523809523809523\n"
     ]
    }
   ],
   "source": [
    "# Evaluate the model\n",
    "print(classification_report(y_test, y_pred))\n",
    "print(confusion_matrix(y_test, y_pred))\n",
    "\n",
    "# Calculate F1 score, recall, and precision\n",
    "f1 = f1_score(y_test, y_pred, pos_label=1)\n",
    "recall = recall_score(y_test, y_pred, pos_label=1)\n",
    "precision = precision_score(y_test, y_pred, pos_label=1)\n",
    "\n",
    "print(f\"F1 Score: {f1}\")\n",
    "print(f\"Recall: {recall}\")\n",
    "print(f\"Precision: {precision}\")"
   ]
  },
  {
   "cell_type": "code",
   "execution_count": 23,
   "metadata": {},
   "outputs": [
    {
     "data": {
      "image/png": "[encoded data removed]",
      "text/plain": [
       "<Figure size 1000x600 with 1 Axes>"
      ]
     },
     "metadata": {},
     "output_type": "display_data"
    }
   ],
   "source": [
    "# Plot predicted values vs actual values\n",
    "plt.figure(figsize=(10, 6))\n",
    "plt.scatter(range(len(y_test)), y_test, color=\"blue\", label=\"Actual\")\n",
    "plt.scatter(range(len(y_test)), y_pred, color=\"red\", alpha=0.6, label=\"Predicted\")\n",
    "plt.xlabel(\"Samples\")\n",
    "plt.ylabel(\"Performance\")\n",
    "plt.title(\"Predicted vs Actual Performance\")\n",
    "plt.legend()\n",
    "plt.show()"
   ]
  },
  {
   "cell_type": "markdown",
   "metadata": {},
   "source": [
    "### K-Nearest Neighbors (KNN)\n",
    "\n",
    "Best for: Smaller datasets with a well-defined distance metric.\n",
    "Data Types: Works with continuous and categorical data but is computationally intensive for large datasets."
   ]
  },
  {
   "cell_type": "code",
   "execution_count": 24,
   "metadata": {},
   "outputs": [],
   "source": [
    "# Split data into training and testing sets\n",
    "X_train, X_test, y_train, y_test = train_test_split(\n",
    "    X, y, test_size=0.2, random_state=42\n",
    ")\n",
    "\n",
    "# Standardize the features\n",
    "scaler = StandardScaler()\n",
    "X_train = scaler.fit_transform(X_train)\n",
    "X_test = scaler.transform(X_test)"
   ]
  },
  {
   "cell_type": "code",
   "execution_count": 25,
   "metadata": {},
   "outputs": [],
   "source": [
    "# Initialize and train the model\n",
    "model = KNeighborsClassifier(n_neighbors=5)\n",
    "model.fit(X_train, y_train)\n",
    "\n",
    "# Make predictions\n",
    "y_pred = model.predict(X_test)"
   ]
  },
  {
   "cell_type": "code",
   "execution_count": 26,
   "metadata": {},
   "outputs": [
    {
     "name": "stdout",
     "output_type": "stream",
     "text": [
      "              precision    recall  f1-score   support\n",
      "\n",
      "           0       1.00      0.89      0.94         9\n",
      "           1       0.95      1.00      0.98        20\n",
      "\n",
      "    accuracy                           0.97        29\n",
      "   macro avg       0.98      0.94      0.96        29\n",
      "weighted avg       0.97      0.97      0.96        29\n",
      "\n",
      "[[ 8  1]\n",
      " [ 0 20]]\n",
      "F1 Score: 0.975609756097561\n",
      "Recall: 1.0\n",
      "Precision: 0.9523809523809523\n"
     ]
    }
   ],
   "source": [
    "# Evaluate the model\n",
    "print(classification_report(y_test, y_pred))\n",
    "print(confusion_matrix(y_test, y_pred))\n",
    "\n",
    "# Calculate F1 score, recall, and precision\n",
    "f1 = f1_score(y_test, y_pred, pos_label=1)\n",
    "recall = recall_score(y_test, y_pred, pos_label=1)\n",
    "precision = precision_score(y_test, y_pred, pos_label=1)\n",
    "\n",
    "print(f\"F1 Score: {f1}\")\n",
    "print(f\"Recall: {recall}\")\n",
    "print(f\"Precision: {precision}\")"
   ]
  },
  {
   "cell_type": "code",
   "execution_count": 27,
   "metadata": {},
   "outputs": [
    {
     "data": {
      "image/png": "[encoded data removed]",
      "text/plain": [
       "<Figure size 1000x600 with 1 Axes>"
      ]
     },
     "metadata": {},
     "output_type": "display_data"
    }
   ],
   "source": [
    "# Plot predicted values vs actual values\n",
    "plt.figure(figsize=(10, 6))\n",
    "plt.scatter(range(len(y_test)), y_test, color=\"blue\", label=\"Actual\")\n",
    "plt.scatter(range(len(y_test)), y_pred, color=\"red\", alpha=0.6, label=\"Predicted\")\n",
    "plt.xlabel(\"Samples\")\n",
    "plt.ylabel(\"Performance\")\n",
    "plt.title(\"Predicted vs Actual Performance\")\n",
    "plt.legend()\n",
    "plt.show()"
   ]
  },
  {
   "cell_type": "markdown",
   "metadata": {},
   "source": [
    "### Naive Bayes\n",
    "\n",
    "Best for: Text classification and problems with categorical features.\n",
    "Data Types: Assumes feature independence, works well with high-dimensional data."
   ]
  },
  {
   "cell_type": "code",
   "execution_count": 28,
   "metadata": {},
   "outputs": [],
   "source": [
    "# Split data into training and testing sets\n",
    "X_train, X_test, y_train, y_test = train_test_split(\n",
    "    X, y, test_size=0.2, random_state=42\n",
    ")\n",
    "\n",
    "# Standardize the features\n",
    "scaler = StandardScaler()\n",
    "X_train = scaler.fit_transform(X_train)\n",
    "X_test = scaler.transform(X_test)"
   ]
  },
  {
   "cell_type": "code",
   "execution_count": 29,
   "metadata": {},
   "outputs": [],
   "source": [
    "# Initialize and train the model\n",
    "model = GaussianNB()\n",
    "model.fit(X_train, y_train)\n",
    "\n",
    "# Make predictions\n",
    "y_pred = model.predict(X_test)"
   ]
  },
  {
   "cell_type": "code",
   "execution_count": 30,
   "metadata": {},
   "outputs": [
    {
     "name": "stdout",
     "output_type": "stream",
     "text": [
      "              precision    recall  f1-score   support\n",
      "\n",
      "           0       0.78      0.78      0.78         9\n",
      "           1       0.90      0.90      0.90        20\n",
      "\n",
      "    accuracy                           0.86        29\n",
      "   macro avg       0.84      0.84      0.84        29\n",
      "weighted avg       0.86      0.86      0.86        29\n",
      "\n",
      "[[ 7  2]\n",
      " [ 2 18]]\n",
      "F1 Score: 0.9\n",
      "Recall: 0.9\n",
      "Precision: 0.9\n"
     ]
    }
   ],
   "source": [
    "# Evaluate the model\n",
    "print(classification_report(y_test, y_pred))\n",
    "print(confusion_matrix(y_test, y_pred))\n",
    "\n",
    "# Calculate F1 score, recall, and precision\n",
    "f1 = f1_score(y_test, y_pred, pos_label=1)\n",
    "recall = recall_score(y_test, y_pred, pos_label=1)\n",
    "precision = precision_score(y_test, y_pred, pos_label=1)\n",
    "\n",
    "print(f\"F1 Score: {f1}\")\n",
    "print(f\"Recall: {recall}\")\n",
    "print(f\"Precision: {precision}\")"
   ]
  },
  {
   "cell_type": "code",
   "execution_count": 31,
   "metadata": {},
   "outputs": [
    {
     "data": {
      "image/png": "[encoded data removed]",
      "text/plain": [
       "<Figure size 1000x600 with 1 Axes>"
      ]
     },
     "metadata": {},
     "output_type": "display_data"
    }
   ],
   "source": [
    "# Plot predicted values vs actual values\n",
    "plt.figure(figsize=(10, 6))\n",
    "plt.scatter(range(len(y_test)), y_test, color=\"blue\", label=\"Actual\")\n",
    "plt.scatter(range(len(y_test)), y_pred, color=\"red\", alpha=0.6, label=\"Predicted\")\n",
    "plt.xlabel(\"Samples\")\n",
    "plt.ylabel(\"Performance\")\n",
    "plt.title(\"Predicted vs Actual Performance\")\n",
    "plt.legend()\n",
    "plt.show()"
   ]
  },
  {
   "cell_type": "markdown",
   "metadata": {},
   "source": [
    "### Linear Discriminant Analysis (LDA)\n",
    "\n",
    "Best for: Dimensionality reduction and classification.\n",
    "Data Types: Works well with continuous features and assumes normally distributed classes."
   ]
  },
  {
   "cell_type": "code",
   "execution_count": 32,
   "metadata": {},
   "outputs": [],
   "source": [
    "# Split data into training and testing sets\n",
    "X_train, X_test, y_train, y_test = train_test_split(\n",
    "    X, y, test_size=0.2, random_state=42\n",
    ")\n",
    "\n",
    "# Standardize the features\n",
    "scaler = StandardScaler()\n",
    "X_train = scaler.fit_transform(X_train)\n",
    "X_test = scaler.transform(X_test)"
   ]
  },
  {
   "cell_type": "code",
   "execution_count": 33,
   "metadata": {},
   "outputs": [],
   "source": [
    "# Initialize and train the model\n",
    "model = LinearDiscriminantAnalysis()\n",
    "model.fit(X_train, y_train)\n",
    "\n",
    "# Make predictions\n",
    "y_pred = model.predict(X_test)"
   ]
  },
  {
   "cell_type": "code",
   "execution_count": 34,
   "metadata": {},
   "outputs": [
    {
     "name": "stdout",
     "output_type": "stream",
     "text": [
      "              precision    recall  f1-score   support\n",
      "\n",
      "           0       1.00      0.89      0.94         9\n",
      "           1       0.95      1.00      0.98        20\n",
      "\n",
      "    accuracy                           0.97        29\n",
      "   macro avg       0.98      0.94      0.96        29\n",
      "weighted avg       0.97      0.97      0.96        29\n",
      "\n",
      "[[ 8  1]\n",
      " [ 0 20]]\n",
      "F1 Score: 0.975609756097561\n",
      "Recall: 1.0\n",
      "Precision: 0.9523809523809523\n"
     ]
    }
   ],
   "source": [
    "# Evaluate the model\n",
    "print(classification_report(y_test, y_pred))\n",
    "print(confusion_matrix(y_test, y_pred))\n",
    "\n",
    "# Calculate F1 score, recall, and precision\n",
    "f1 = f1_score(y_test, y_pred)\n",
    "recall = recall_score(y_test, y_pred)\n",
    "precision = precision_score(y_test, y_pred)\n",
    "\n",
    "print(f\"F1 Score: {f1}\")\n",
    "print(f\"Recall: {recall}\")\n",
    "print(f\"Precision: {precision}\")"
   ]
  },
  {
   "cell_type": "code",
   "execution_count": 35,
   "metadata": {},
   "outputs": [
    {
     "data": {
      "image/png": "[encoded data removed]",
      "text/plain": [
       "<Figure size 1000x600 with 1 Axes>"
      ]
     },
     "metadata": {},
     "output_type": "display_data"
    }
   ],
   "source": [
    "# Plot predicted values vs actual values\n",
    "plt.figure(figsize=(10, 6))\n",
    "plt.scatter(range(len(y_test)), y_test, color=\"blue\", label=\"Actual\")\n",
    "plt.scatter(range(len(y_test)), y_pred, color=\"red\", alpha=0.6, label=\"Predicted\")\n",
    "plt.xlabel(\"Samples\")\n",
    "plt.ylabel(\"Performance\")\n",
    "plt.title(\"Predicted vs Actual Performance\")\n",
    "plt.legend()\n",
    "plt.show()"
   ]
  },
  {
   "cell_type": "markdown",
   "metadata": {},
   "source": [
    "### Quadratic Discriminant Analysis (QDA)\n",
    "\n",
    "Best for: Similar to LDA but with non-linear boundaries.\n",
    "Data Types: Assumes each class has its own covariance matrix, suitable for continuous data with different variances among classes."
   ]
  },
  {
   "cell_type": "code",
   "execution_count": 36,
   "metadata": {},
   "outputs": [],
   "source": [
    "# Split data into training and testing sets\n",
    "X_train, X_test, y_train, y_test = train_test_split(\n",
    "    X, y, test_size=0.2, random_state=42\n",
    ")\n",
    "\n",
    "# Standardize the features\n",
    "scaler = StandardScaler()\n",
    "X_train = scaler.fit_transform(X_train)\n",
    "X_test = scaler.transform(X_test)"
   ]
  },
  {
   "cell_type": "code",
   "execution_count": 37,
   "metadata": {},
   "outputs": [],
   "source": [
    "# Initialize and train the model\n",
    "model = QuadraticDiscriminantAnalysis()\n",
    "model.fit(X_train, y_train)\n",
    "\n",
    "# Make predictions\n",
    "y_pred = model.predict(X_test)"
   ]
  },
  {
   "cell_type": "code",
   "execution_count": 38,
   "metadata": {},
   "outputs": [
    {
     "name": "stdout",
     "output_type": "stream",
     "text": [
      "              precision    recall  f1-score   support\n",
      "\n",
      "           0       0.58      0.78      0.67         9\n",
      "           1       0.88      0.75      0.81        20\n",
      "\n",
      "    accuracy                           0.76        29\n",
      "   macro avg       0.73      0.76      0.74        29\n",
      "weighted avg       0.79      0.76      0.77        29\n",
      "\n",
      "[[ 7  2]\n",
      " [ 5 15]]\n",
      "F1 Score: 0.8108108108108109\n",
      "Recall: 0.75\n",
      "Precision: 0.8823529411764706\n"
     ]
    }
   ],
   "source": [
    "# Evaluate the model\n",
    "print(classification_report(y_test, y_pred))\n",
    "print(confusion_matrix(y_test, y_pred))\n",
    "\n",
    "# Calculate F1 score, recall, and precision\n",
    "f1 = f1_score(y_test, y_pred)\n",
    "recall = recall_score(y_test, y_pred)\n",
    "precision = precision_score(y_test, y_pred)\n",
    "\n",
    "print(f\"F1 Score: {f1}\")\n",
    "print(f\"Recall: {recall}\")\n",
    "print(f\"Precision: {precision}\")"
   ]
  },
  {
   "cell_type": "code",
   "execution_count": 39,
   "metadata": {},
   "outputs": [
    {
     "data": {
      "image/png": "[encoded data removed]",
      "text/plain": [
       "<Figure size 1000x600 with 1 Axes>"
      ]
     },
     "metadata": {},
     "output_type": "display_data"
    }
   ],
   "source": [
    "# Plot predicted values vs actual values\n",
    "plt.figure(figsize=(10, 6))\n",
    "plt.scatter(range(len(y_test)), y_test, color=\"blue\", label=\"Actual\")\n",
    "plt.scatter(range(len(y_test)), y_pred, color=\"red\", alpha=0.6, label=\"Predicted\")\n",
    "plt.xlabel(\"Samples\")\n",
    "plt.ylabel(\"Performance\")\n",
    "plt.title(\"Predicted vs Actual Performance\")\n",
    "plt.legend()\n",
    "plt.show()"
   ]
  }
 ],
 "metadata": {
  "kernelspec": {
   "display_name": "GA1",
   "language": "python",
   "name": "python3"
  },
  "language_info": {
   "codemirror_mode": {
    "name": "ipython",
    "version": 3
   },
   "file_extension": ".py",
   "mimetype": "text/x-python",
   "name": "python",
   "nbconvert_exporter": "python",
   "pygments_lexer": "ipython3",
   "version": "3.12.3"
  }
 },
 "nbformat": 4,
 "nbformat_minor": 2
}
